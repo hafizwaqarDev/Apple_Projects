{
 "cells": [
  {
   "cell_type": "code",
   "execution_count": 1,
   "metadata": {},
   "outputs": [],
   "source": [
    "from selenium import webdriver\n",
    "from selenium .webdriver.common.by import By\n",
    "from selenium.webdriver.common.keys import Keys\n",
    "from lxml.html import fromstring\n",
    "import csv,time"
   ]
  },
  {
   "cell_type": "code",
   "execution_count": 2,
   "metadata": {},
   "outputs": [],
   "source": [
    "driver = webdriver.Chrome()"
   ]
  },
  {
   "cell_type": "code",
   "execution_count": 3,
   "metadata": {},
   "outputs": [],
   "source": [
    "driver.get('https://appleid.apple.com/sign-in')"
   ]
  },
  {
   "cell_type": "code",
   "execution_count": 4,
   "metadata": {},
   "outputs": [],
   "source": [
    "allData = 'Account1: ycn9mg1jdjo@gmx.com----Kk669966----你少年时代最好的朋友叫什么名字？----z111----你的理想工作是什么？----x112----你的父母是在哪里认识的？----c113----2001-01-01'\n",
    "splitted_Text = allData.split('----')\n",
    "email = splitted_Text[0].split(':')[-1].strip()\n",
    "password = splitted_Text[1]\n",
    "friends_meet_ans = splitted_Text[3]\n",
    "Ideal_job_ans = splitted_Text[5]\n",
    "parent_meet_ans = splitted_Text[-2]\n",
    "ans_date = splitted_Text[-1]"
   ]
  },
  {
   "cell_type": "code",
   "execution_count": 5,
   "metadata": {},
   "outputs": [
    {
     "data": {
      "text/plain": [
       "['Account1: ycn9mg1jdjo@gmx.com',\n",
       " 'Kk669966',\n",
       " '你少年时代最好的朋友叫什么名字？',\n",
       " 'z111',\n",
       " '你的理想工作是什么？',\n",
       " 'x112',\n",
       " '你的父母是在哪里认识的？',\n",
       " 'c113',\n",
       " '2001-01-01']"
      ]
     },
     "execution_count": 5,
     "metadata": {},
     "output_type": "execute_result"
    }
   ],
   "source": [
    "splitted_Text"
   ]
  },
  {
   "cell_type": "code",
   "execution_count": 6,
   "metadata": {},
   "outputs": [
    {
     "ename": "NoSuchElementException",
     "evalue": "Message: no such element: Unable to locate element: {\"method\":\"css selector\",\"selector\":\"[id=\"aid-auth-widget-iFrame\"]\"}\n  (Session info: chrome=120.0.6099.71); For documentation on this error, please visit: https://www.selenium.dev/documentation/webdriver/troubleshooting/errors#no-such-element-exception\nStacktrace:\n\tGetHandleVerifier [0x00007FF616F24D02+56194]\n\t(No symbol) [0x00007FF616E904B2]\n\t(No symbol) [0x00007FF616D376AA]\n\t(No symbol) [0x00007FF616D816D0]\n\t(No symbol) [0x00007FF616D817EC]\n\t(No symbol) [0x00007FF616DC4D77]\n\t(No symbol) [0x00007FF616DA5EBF]\n\t(No symbol) [0x00007FF616DC2786]\n\t(No symbol) [0x00007FF616DA5C23]\n\t(No symbol) [0x00007FF616D74A45]\n\t(No symbol) [0x00007FF616D75AD4]\n\tGetHandleVerifier [0x00007FF61729D5BB+3695675]\n\tGetHandleVerifier [0x00007FF6172F6197+4059159]\n\tGetHandleVerifier [0x00007FF6172EDF63+4025827]\n\tGetHandleVerifier [0x00007FF616FBF029+687785]\n\t(No symbol) [0x00007FF616E9B508]\n\t(No symbol) [0x00007FF616E97564]\n\t(No symbol) [0x00007FF616E976E9]\n\t(No symbol) [0x00007FF616E88094]\n\tBaseThreadInitThunk [0x00007FFA81BA257D+29]\n\tRtlUserThreadStart [0x00007FFA8354AA58+40]\n",
     "output_type": "error",
     "traceback": [
      "\u001b[1;31m---------------------------------------------------------------------------\u001b[0m",
      "\u001b[1;31mNoSuchElementException\u001b[0m                    Traceback (most recent call last)",
      "Cell \u001b[1;32mIn[6], line 1\u001b[0m\n\u001b[1;32m----> 1\u001b[0m iframe_tag \u001b[38;5;241m=\u001b[39m \u001b[43mdriver\u001b[49m\u001b[38;5;241;43m.\u001b[39;49m\u001b[43mfind_element\u001b[49m\u001b[43m(\u001b[49m\u001b[43mBy\u001b[49m\u001b[38;5;241;43m.\u001b[39;49m\u001b[43mID\u001b[49m\u001b[43m,\u001b[49m\u001b[38;5;124;43m\"\u001b[39;49m\u001b[38;5;124;43maid-auth-widget-iFrame\u001b[39;49m\u001b[38;5;124;43m\"\u001b[39;49m\u001b[43m)\u001b[49m\n\u001b[0;32m      2\u001b[0m driver\u001b[38;5;241m.\u001b[39mswitch_to\u001b[38;5;241m.\u001b[39mframe(iframe_tag)\n",
      "File \u001b[1;32mc:\\Users\\Muhammad Ahmad\\AppData\\Local\\Programs\\Python\\Python311\\Lib\\site-packages\\selenium\\webdriver\\remote\\webdriver.py:738\u001b[0m, in \u001b[0;36mWebDriver.find_element\u001b[1;34m(self, by, value)\u001b[0m\n\u001b[0;32m    735\u001b[0m     by \u001b[38;5;241m=\u001b[39m By\u001b[38;5;241m.\u001b[39mCSS_SELECTOR\n\u001b[0;32m    736\u001b[0m     value \u001b[38;5;241m=\u001b[39m \u001b[38;5;124mf\u001b[39m\u001b[38;5;124m'\u001b[39m\u001b[38;5;124m[name=\u001b[39m\u001b[38;5;124m\"\u001b[39m\u001b[38;5;132;01m{\u001b[39;00mvalue\u001b[38;5;132;01m}\u001b[39;00m\u001b[38;5;124m\"\u001b[39m\u001b[38;5;124m]\u001b[39m\u001b[38;5;124m'\u001b[39m\n\u001b[1;32m--> 738\u001b[0m \u001b[38;5;28;01mreturn\u001b[39;00m \u001b[38;5;28;43mself\u001b[39;49m\u001b[38;5;241;43m.\u001b[39;49m\u001b[43mexecute\u001b[49m\u001b[43m(\u001b[49m\u001b[43mCommand\u001b[49m\u001b[38;5;241;43m.\u001b[39;49m\u001b[43mFIND_ELEMENT\u001b[49m\u001b[43m,\u001b[49m\u001b[43m \u001b[49m\u001b[43m{\u001b[49m\u001b[38;5;124;43m\"\u001b[39;49m\u001b[38;5;124;43musing\u001b[39;49m\u001b[38;5;124;43m\"\u001b[39;49m\u001b[43m:\u001b[49m\u001b[43m \u001b[49m\u001b[43mby\u001b[49m\u001b[43m,\u001b[49m\u001b[43m \u001b[49m\u001b[38;5;124;43m\"\u001b[39;49m\u001b[38;5;124;43mvalue\u001b[39;49m\u001b[38;5;124;43m\"\u001b[39;49m\u001b[43m:\u001b[49m\u001b[43m \u001b[49m\u001b[43mvalue\u001b[49m\u001b[43m}\u001b[49m\u001b[43m)\u001b[49m[\u001b[38;5;124m\"\u001b[39m\u001b[38;5;124mvalue\u001b[39m\u001b[38;5;124m\"\u001b[39m]\n",
      "File \u001b[1;32mc:\\Users\\Muhammad Ahmad\\AppData\\Local\\Programs\\Python\\Python311\\Lib\\site-packages\\selenium\\webdriver\\remote\\webdriver.py:344\u001b[0m, in \u001b[0;36mWebDriver.execute\u001b[1;34m(self, driver_command, params)\u001b[0m\n\u001b[0;32m    342\u001b[0m response \u001b[38;5;241m=\u001b[39m \u001b[38;5;28mself\u001b[39m\u001b[38;5;241m.\u001b[39mcommand_executor\u001b[38;5;241m.\u001b[39mexecute(driver_command, params)\n\u001b[0;32m    343\u001b[0m \u001b[38;5;28;01mif\u001b[39;00m response:\n\u001b[1;32m--> 344\u001b[0m     \u001b[38;5;28;43mself\u001b[39;49m\u001b[38;5;241;43m.\u001b[39;49m\u001b[43merror_handler\u001b[49m\u001b[38;5;241;43m.\u001b[39;49m\u001b[43mcheck_response\u001b[49m\u001b[43m(\u001b[49m\u001b[43mresponse\u001b[49m\u001b[43m)\u001b[49m\n\u001b[0;32m    345\u001b[0m     response[\u001b[38;5;124m\"\u001b[39m\u001b[38;5;124mvalue\u001b[39m\u001b[38;5;124m\"\u001b[39m] \u001b[38;5;241m=\u001b[39m \u001b[38;5;28mself\u001b[39m\u001b[38;5;241m.\u001b[39m_unwrap_value(response\u001b[38;5;241m.\u001b[39mget(\u001b[38;5;124m\"\u001b[39m\u001b[38;5;124mvalue\u001b[39m\u001b[38;5;124m\"\u001b[39m, \u001b[38;5;28;01mNone\u001b[39;00m))\n\u001b[0;32m    346\u001b[0m     \u001b[38;5;28;01mreturn\u001b[39;00m response\n",
      "File \u001b[1;32mc:\\Users\\Muhammad Ahmad\\AppData\\Local\\Programs\\Python\\Python311\\Lib\\site-packages\\selenium\\webdriver\\remote\\errorhandler.py:229\u001b[0m, in \u001b[0;36mErrorHandler.check_response\u001b[1;34m(self, response)\u001b[0m\n\u001b[0;32m    227\u001b[0m         alert_text \u001b[38;5;241m=\u001b[39m value[\u001b[38;5;124m\"\u001b[39m\u001b[38;5;124malert\u001b[39m\u001b[38;5;124m\"\u001b[39m]\u001b[38;5;241m.\u001b[39mget(\u001b[38;5;124m\"\u001b[39m\u001b[38;5;124mtext\u001b[39m\u001b[38;5;124m\"\u001b[39m)\n\u001b[0;32m    228\u001b[0m     \u001b[38;5;28;01mraise\u001b[39;00m exception_class(message, screen, stacktrace, alert_text)  \u001b[38;5;66;03m# type: ignore[call-arg]  # mypy is not smart enough here\u001b[39;00m\n\u001b[1;32m--> 229\u001b[0m \u001b[38;5;28;01mraise\u001b[39;00m exception_class(message, screen, stacktrace)\n",
      "\u001b[1;31mNoSuchElementException\u001b[0m: Message: no such element: Unable to locate element: {\"method\":\"css selector\",\"selector\":\"[id=\"aid-auth-widget-iFrame\"]\"}\n  (Session info: chrome=120.0.6099.71); For documentation on this error, please visit: https://www.selenium.dev/documentation/webdriver/troubleshooting/errors#no-such-element-exception\nStacktrace:\n\tGetHandleVerifier [0x00007FF616F24D02+56194]\n\t(No symbol) [0x00007FF616E904B2]\n\t(No symbol) [0x00007FF616D376AA]\n\t(No symbol) [0x00007FF616D816D0]\n\t(No symbol) [0x00007FF616D817EC]\n\t(No symbol) [0x00007FF616DC4D77]\n\t(No symbol) [0x00007FF616DA5EBF]\n\t(No symbol) [0x00007FF616DC2786]\n\t(No symbol) [0x00007FF616DA5C23]\n\t(No symbol) [0x00007FF616D74A45]\n\t(No symbol) [0x00007FF616D75AD4]\n\tGetHandleVerifier [0x00007FF61729D5BB+3695675]\n\tGetHandleVerifier [0x00007FF6172F6197+4059159]\n\tGetHandleVerifier [0x00007FF6172EDF63+4025827]\n\tGetHandleVerifier [0x00007FF616FBF029+687785]\n\t(No symbol) [0x00007FF616E9B508]\n\t(No symbol) [0x00007FF616E97564]\n\t(No symbol) [0x00007FF616E976E9]\n\t(No symbol) [0x00007FF616E88094]\n\tBaseThreadInitThunk [0x00007FFA81BA257D+29]\n\tRtlUserThreadStart [0x00007FFA8354AA58+40]\n"
     ]
    }
   ],
   "source": [
    "iframe_tag = driver.find_element(By.ID,\"aid-auth-widget-iFrame\")\n",
    "driver.switch_to.frame(iframe_tag)"
   ]
  },
  {
   "cell_type": "markdown",
   "metadata": {},
   "source": [
    "#### first putting the email and password"
   ]
  },
  {
   "cell_type": "code",
   "execution_count": 15,
   "metadata": {},
   "outputs": [],
   "source": [
    "Emailtag = driver.find_element(By.XPATH,'//input[@id=\"account_name_text_field\"]')\n",
    "time.sleep(1)\n",
    "Emailtag.clear()\n",
    "Emailtag.send_keys(email)\n",
    "time.sleep(1)\n",
    "Emailtag.send_keys(Keys.ENTER)\n",
    "time.sleep(2)\n",
    "Paswordtag = driver.find_element(By.XPATH,'//input[@id=\"password_text_field\"]')\n",
    "time.sleep(1)\n",
    "Paswordtag.clear()\n",
    "Paswordtag.send_keys(password)\n",
    "time.sleep(1)\n",
    "Paswordtag.send_keys(Keys.ENTER)\n"
   ]
  },
  {
   "cell_type": "code",
   "execution_count": 16,
   "metadata": {},
   "outputs": [],
   "source": [
    "driver.switch_to.default_content()"
   ]
  },
  {
   "cell_type": "markdown",
   "metadata": {},
   "source": [
    "#### putting the secuirty questions"
   ]
  },
  {
   "cell_type": "code",
   "execution_count": null,
   "metadata": {},
   "outputs": [],
   "source": []
  },
  {
   "cell_type": "code",
   "execution_count": 17,
   "metadata": {},
   "outputs": [],
   "source": [
    "iframe_tag = driver.find_element(By.ID,\"aid-auth-widget-iFrame\")\n",
    "driver.switch_to.frame(iframe_tag)"
   ]
  },
  {
   "cell_type": "code",
   "execution_count": 19,
   "metadata": {},
   "outputs": [
    {
     "data": {
      "text/plain": [
       "'你的理想工作是什么？'"
      ]
     },
     "execution_count": 19,
     "metadata": {},
     "output_type": "execute_result"
    }
   ],
   "source": [
    "firstQuestion = driver.find_element(By.XPATH,'//div[@id=\"question-1\"]').text"
   ]
  },
  {
   "cell_type": "code",
   "execution_count": 78,
   "metadata": {},
   "outputs": [],
   "source": [
    "first_question_Tag = driver.find_element(By.XPATH,'//input[@aria-describedby=\"question-1\"]')\n",
    "time.sleep(1)\n",
    "first_question_Tag.clear()\n",
    "time.sleep(1)\n",
    "first_question_Tag.send_keys(friends_meet_ans)\n",
    "time.sleep(1)"
   ]
  },
  {
   "cell_type": "code",
   "execution_count": 79,
   "metadata": {},
   "outputs": [],
   "source": [
    "secound_qestion_Tag = driver.find_element(By.XPATH,'//input[@aria-describedby=\"question-2\"]')\n",
    "time.sleep(1)\n",
    "secound_qestion_Tag.clear()\n",
    "time.sleep(1)\n",
    "secound_qestion_Tag.send_keys(parent_meet_ans)\n",
    "time.sleep(1)\n",
    "secound_qestion_Tag.send_keys(Keys.ENTER)"
   ]
  },
  {
   "cell_type": "code",
   "execution_count": 80,
   "metadata": {},
   "outputs": [],
   "source": [
    "driver.switch_to.default_content()"
   ]
  },
  {
   "cell_type": "code",
   "execution_count": 85,
   "metadata": {},
   "outputs": [],
   "source": [
    "newIframe = driver.find_element(By.ID,\"aid-auth-widget-iFrame\")\n",
    "driver.switch_to.frame(newIframe)"
   ]
  },
  {
   "cell_type": "code",
   "execution_count": 88,
   "metadata": {},
   "outputs": [],
   "source": [
    "new2Iframe = driver.find_element(By.ID,\"repairFrame\")\n",
    "driver.switch_to.frame(new2Iframe)"
   ]
  },
  {
   "cell_type": "code",
   "execution_count": 90,
   "metadata": {},
   "outputs": [],
   "source": [
    "other_buttonTag = driver.find_element(By.XPATH,'//div[text()=\"Other Options\"]/parent::button')\n",
    "other_buttonTag.click()\n"
   ]
  },
  {
   "cell_type": "code",
   "execution_count": 91,
   "metadata": {},
   "outputs": [],
   "source": [
    "do_not_buttonTag = driver.find_element(By.XPATH,'//button[@class=\"button button-secondary first  nav-cancel pull-right\"]')\n",
    "do_not_buttonTag.click()"
   ]
  }
 ],
 "metadata": {
  "kernelspec": {
   "display_name": "Python 3",
   "language": "python",
   "name": "python3"
  },
  "language_info": {
   "codemirror_mode": {
    "name": "ipython",
    "version": 3
   },
   "file_extension": ".py",
   "mimetype": "text/x-python",
   "name": "python",
   "nbconvert_exporter": "python",
   "pygments_lexer": "ipython3",
   "version": "3.11.5"
  }
 },
 "nbformat": 4,
 "nbformat_minor": 2
}
